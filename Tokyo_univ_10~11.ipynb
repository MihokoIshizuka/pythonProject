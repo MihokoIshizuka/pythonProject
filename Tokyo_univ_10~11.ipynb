{
  "nbformat": 4,
  "nbformat_minor": 0,
  "metadata": {
    "colab": {
      "provenance": [],
      "authorship_tag": "ABX9TyOwNj6oYLavm8SWgz3gFFxU"
    },
    "kernelspec": {
      "name": "python3",
      "display_name": "Python 3"
    },
    "language_info": {
      "name": "python"
    }
  },
  "cells": [
    {
      "cell_type": "code",
      "execution_count": 1,
      "metadata": {
        "colab": {
          "base_uri": "https://localhost:8080/"
        },
        "id": "KWIctB-b96F8",
        "outputId": "954d39f7-bb7e-490b-f2a2-239f54677792"
      },
      "outputs": [
        {
          "output_type": "stream",
          "name": "stdout",
          "text": [
            "dog 3\n",
            "cat 3\n",
            "mouse 5\n",
            "finish\n"
          ]
        }
      ],
      "source": [
        "words = [\"dog\", \"cat\", \"mouse\"]\n",
        "for i in words:\n",
        "  print(i, len(i))\n",
        "print(\"finish\")"
      ]
    },
    {
      "cell_type": "code",
      "source": [
        "# 組み込み関数ord 文字番号（コード）を整数として返す\n",
        "print(ord(\"a\"))\n",
        "print(ord(\"b\"))\n",
        "print(ord(\"A\"))\n",
        "# 組み込み関数chrは逆に与えられた関数をコードとする\n",
        "print(chr(97))\n",
        "print(chr(1))"
      ],
      "metadata": {
        "colab": {
          "base_uri": "https://localhost:8080/"
        },
        "id": "os2sKwGX-j_o",
        "outputId": "b7ad81e5-ada0-48e5-87ca-f56cf46b7076"
      },
      "execution_count": 4,
      "outputs": [
        {
          "output_type": "stream",
          "name": "stdout",
          "text": [
            "97\n",
            "98\n",
            "65\n",
            "a\n",
            "\u0001\n"
          ]
        }
      ]
    },
    {
      "cell_type": "code",
      "source": [
        "# 英文字列からなる文字列の中の各文字の頻度を求める\n",
        "word = 'supercalifragilisticexpialidocious'\n",
        "height = [0] * 26\n",
        "for c in word:\n",
        "  height[ord(c) - ord(\"a\")] += 1\n",
        "\n",
        "print(height)"
      ],
      "metadata": {
        "colab": {
          "base_uri": "https://localhost:8080/"
        },
        "id": "IEyNZSvd_SA0",
        "outputId": "34d0d057-f6a3-433e-a6bc-db46aae0330f"
      },
      "execution_count": 5,
      "outputs": [
        {
          "output_type": "stream",
          "name": "stdout",
          "text": [
            "[3, 0, 3, 1, 2, 1, 1, 0, 7, 0, 0, 3, 0, 0, 2, 2, 0, 2, 3, 1, 2, 0, 0, 1, 0, 0]\n"
          ]
        }
      ]
    },
    {
      "cell_type": "code",
      "source": [
        "# heightを可視化する\n",
        "import matplotlib.pyplot as plt\n",
        "\n",
        "word = 'supercalifragilisticexpialidocious'\n",
        "height = [0] * 26\n",
        "for c in word:\n",
        "  height[ord(c) - ord(\"a\")] += 1\n",
        "\n",
        "plt.plot(height)\n"
      ],
      "metadata": {
        "colab": {
          "base_uri": "https://localhost:8080/",
          "height": 283
        },
        "id": "-krpoH7WAUhu",
        "outputId": "bb0c5e45-680b-4cf1-f432-6ce4e44b0ca3"
      },
      "execution_count": 11,
      "outputs": [
        {
          "output_type": "execute_result",
          "data": {
            "text/plain": [
              "[<matplotlib.lines.Line2D at 0x7efd56723f10>]"
            ]
          },
          "metadata": {},
          "execution_count": 11
        },
        {
          "output_type": "display_data",
          "data": {
            "text/plain": [
              "<Figure size 432x288 with 1 Axes>"
            ],
            "image/png": "[encoded data removed]"
          },
          "metadata": {
            "needs_background": "light"
          }
        }
      ]
    },
    {
      "cell_type": "code",
      "source": [
        "import matplotlib.pyplot as plt\n",
        "\n",
        "word = 'supercalifragilisticexpialidocious'\n",
        "height = [0] * 26\n",
        "for c in word:\n",
        "  height[ord(c) - ord(\"a\")] += 1\n",
        "\n",
        "left = list(range(26))\n",
        "labels = [chr(i + ord(\"a\")) for i in range(26)]\n",
        "\n",
        "plt.bar(left,height,tick_label=labels)"
      ],
      "metadata": {
        "colab": {
          "base_uri": "https://localhost:8080/",
          "height": 283
        },
        "id": "U0PmgxUTAmG_",
        "outputId": "c4835faf-87b4-4772-d012-76b6526827d0"
      },
      "execution_count": 10,
      "outputs": [
        {
          "output_type": "execute_result",
          "data": {
            "text/plain": [
              "<BarContainer object of 26 artists>"
            ]
          },
          "metadata": {},
          "execution_count": 10
        },
        {
          "output_type": "display_data",
          "data": {
            "text/plain": [
              "<Figure size 432x288 with 1 Axes>"
            ],
            "image/png": "[encoded data removed]"
          },
          "metadata": {
            "needs_background": "light"
          }
        }
      ]
    },
    {
      "cell_type": "code",
      "source": [],
      "metadata": {
        "id": "PhwZWQaCFNaf"
      },
      "execution_count": null,
      "outputs": []
    }
  ]
}