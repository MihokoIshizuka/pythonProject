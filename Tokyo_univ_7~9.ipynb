{
  "nbformat": 4,
  "nbformat_minor": 0,
  "metadata": {
    "colab": {
      "provenance": [],
      "authorship_tag": "ABX9TyOX0237p+C2t/ugAMqBuBLn"
    },
    "kernelspec": {
      "name": "python3",
      "display_name": "Python 3"
    },
    "language_info": {
      "name": "python"
    }
  },
  "cells": [
    {
      "cell_type": "code",
      "execution_count": 5,
      "metadata": {
        "colab": {
          "base_uri": "https://localhost:8080/"
        },
        "id": "vjl5PJ5EyDrQ",
        "outputId": "d5207f26-b40b-4d91-9d61-73d0698f3a79"
      },
      "outputs": [
        {
          "output_type": "stream",
          "name": "stdout",
          "text": [
            "['b', 'd', 'f']\n"
          ]
        }
      ],
      "source": [
        "# リスト\n",
        "def remove_evenindex(ln):\n",
        "  del ln[::2]\n",
        "  return ln\n",
        "\n",
        "print(remove_evenindex(['a', 'b', 'c', 'd', 'e', 'f', 'g']))"
      ]
    },
    {
      "cell_type": "code",
      "source": [
        "def remove_evenindex(ln):\n",
        "  del ln[::3]\n",
        "  return ln\n",
        "\n",
        "print(remove_evenindex(['a', 'b', 'c', 'd', 'e', 'f', 'g']))"
      ],
      "metadata": {
        "colab": {
          "base_uri": "https://localhost:8080/"
        },
        "id": "DB0jqBj203dJ",
        "outputId": "7d8b0be9-26df-471e-fd33-91e3f8985aa2"
      },
      "execution_count": 7,
      "outputs": [
        {
          "output_type": "stream",
          "name": "stdout",
          "text": [
            "['b', 'c', 'e', 'f']\n"
          ]
        }
      ]
    },
    {
      "cell_type": "code",
      "source": [
        "numbers = [30, 50, 10, 20, 40, 60]\n",
        "max(numbers)\n",
        "min(numbers)"
      ],
      "metadata": {
        "colab": {
          "base_uri": "https://localhost:8080/"
        },
        "id": "e8ON-m7P8xFc",
        "outputId": "eb047ece-b8d8-49ee-ef31-7c3c84ca4478"
      },
      "execution_count": 14,
      "outputs": [
        {
          "output_type": "execute_result",
          "data": {
            "text/plain": [
              "10"
            ]
          },
          "metadata": {},
          "execution_count": 14
        }
      ]
    },
    {
      "cell_type": "code",
      "source": [
        "# 要素が全て同じ値のリストを作る\n",
        "zero = [0] * 10\n",
        "zero"
      ],
      "metadata": {
        "colab": {
          "base_uri": "https://localhost:8080/"
        },
        "id": "FHZzSmRv90xI",
        "outputId": "7f64f750-9388-49a8-a22a-6359bc7a6575"
      },
      "execution_count": 11,
      "outputs": [
        {
          "output_type": "execute_result",
          "data": {
            "text/plain": [
              "[0, 0, 0, 0, 0, 0, 0, 0, 0, 0]"
            ]
          },
          "metadata": {},
          "execution_count": 11
        }
      ]
    },
    {
      "cell_type": "code",
      "source": [
        "# copy\n",
        "numbers = [10, 20, 30, 40, 50]\n",
        "numbers2 = numbers.copy()\n",
        "del numbers[1:3]\n",
        "numbers.reverse()\n",
        "print(numbers)\n",
        "print(numbers2)"
      ],
      "metadata": {
        "colab": {
          "base_uri": "https://localhost:8080/"
        },
        "id": "Z0VbxsDR-Kiw",
        "outputId": "28a713d4-0bed-48c6-fb6f-90779a51a59a"
      },
      "execution_count": 15,
      "outputs": [
        {
          "output_type": "stream",
          "name": "stdout",
          "text": [
            "[50, 40, 10]\n",
            "[10, 20, 30, 40, 50]\n"
          ]
        }
      ]
    },
    {
      "cell_type": "code",
      "source": [
        "# ドメインの変更\n",
        "def change_domain(email, domain):\n",
        "  email2 = email.split(\"@\")\n",
        "  email2[1] = domain\n",
        "  return \"@\".join([email2[0], email2[1]])\n",
        "\n",
        "print(change_domain('spam@utokyo-ipp.org', 'ipp.u-tokyo.ac.jp'))"
      ],
      "metadata": {
        "colab": {
          "base_uri": "https://localhost:8080/"
        },
        "id": "rrppAQlQADjE",
        "outputId": "f61fead7-b047-4f88-f689-c35f47664902"
      },
      "execution_count": 22,
      "outputs": [
        {
          "output_type": "stream",
          "name": "stdout",
          "text": [
            "spam@ipp.u-tokyo.ac.jp\n"
          ]
        }
      ]
    },
    {
      "cell_type": "code",
      "source": [
        "# タプル＝変更できないデータ\n",
        "numbers3 = (1, 2, 3)\n",
        "print(numbers3)\n",
        "\n",
        "numbers3 = 1,2,3\n",
        "print(numbers3)\n",
        "\n",
        "# 要素が一つだけの場合\n",
        "only = (1,)\n",
        "print(only)\n",
        "\n",
        "# タプルをリストに変換\n",
        "numbers = (1, 2, 3)\n",
        "print(list(numbers))\n",
        "\n",
        "# リストをタプルに変換\n",
        "numbers = [1, 2, 3]\n",
        "print(tuple(numbers))"
      ],
      "metadata": {
        "colab": {
          "base_uri": "https://localhost:8080/"
        },
        "id": "6lS6OUa_Bn01",
        "outputId": "23e1daaa-5f5a-4a52-9d53-ca3fdb6f6d3f"
      },
      "execution_count": 26,
      "outputs": [
        {
          "output_type": "stream",
          "name": "stdout",
          "text": [
            "(1, 2, 3)\n",
            "(1, 2, 3)\n",
            "(1,)\n",
            "[1, 2, 3]\n",
            "(1, 2, 3)\n"
          ]
        }
      ]
    },
    {
      "cell_type": "code",
      "source": [
        "def reverse_totuple(ln):\n",
        "  ln.reverse()\n",
        "  ln2 = tuple(ln)\n",
        "  return ln2\n",
        "  \n",
        "print(reverse_totuple([1, 2, 3, 4, 5]))"
      ],
      "metadata": {
        "colab": {
          "base_uri": "https://localhost:8080/"
        },
        "id": "YmiHApHUC9Ve",
        "outputId": "35d6f323-9186-4dfa-bcc3-e7fc8bbb75a4"
      },
      "execution_count": 33,
      "outputs": [
        {
          "output_type": "stream",
          "name": "stdout",
          "text": [
            "(5, 4, 3, 2, 1)\n"
          ]
        }
      ]
    },
    {
      "cell_type": "code",
      "source": [
        "def sum_list(ln):\n",
        "  sum = 0\n",
        "  for value in ln:\n",
        "    sum += value\n",
        "  return sum\n",
        "\n",
        "print(sum_list([10, 20, 30]))\n",
        "print(sum_list([-1, 2, -3, 4, -5]))"
      ],
      "metadata": {
        "colab": {
          "base_uri": "https://localhost:8080/"
        },
        "id": "JTmiM4hND6zB",
        "outputId": "77480de1-5193-432e-9646-8bce7591b095"
      },
      "execution_count": 35,
      "outputs": [
        {
          "output_type": "stream",
          "name": "stdout",
          "text": [
            "60\n",
            "-3\n"
          ]
        }
      ]
    },
    {
      "cell_type": "code",
      "source": [
        "def atgc_countlist(str_atgc):\n",
        "  a = 0\n",
        "  t = 0\n",
        "  c = 0\n",
        "  g = 0\n",
        "  for value in str_atgc:\n",
        "    if value == \"A\":\n",
        "      a += 1\n",
        "    elif value == \"T\":\n",
        "      t += 1\n",
        "    elif value == \"C\":\n",
        "      c += 1\n",
        "    else:\n",
        "      g += 1\n",
        "  return [a, \"A\"], [t, \"T\"], [c, \"C\"], [g, \"G\"]\n",
        "\n",
        "print(sorted(atgc_countlist('AAGCCCCATGGTAA')) == sorted([[5, 'A'], [2, 'T'], [3, 'G'], [4, 'C']]))"
      ],
      "metadata": {
        "colab": {
          "base_uri": "https://localhost:8080/"
        },
        "id": "TV0Rw-7xGsDg",
        "outputId": "9d92eb85-e5f1-40dc-902c-e4200f5cba25"
      },
      "execution_count": 37,
      "outputs": [
        {
          "output_type": "stream",
          "name": "stdout",
          "text": [
            "True\n"
          ]
        }
      ]
    },
    {
      "cell_type": "code",
      "source": [
        "# ↑の模範解答\n",
        "def atgc_countlist(str_atgc):\n",
        "  list_count = []\n",
        "  for value in \"ATGC\":\n",
        "    int_bpcnt = str_atgc.count(value)\n",
        "    list_count.append([int_bpcnt, value])\n",
        "  return list_count\n",
        "\n",
        "print(sorted(atgc_countlist('AAGCCCCATGGTAA')) == sorted([[5, 'A'], [2, 'T'], [3, 'G'], [4, 'C']]))"
      ],
      "metadata": {
        "colab": {
          "base_uri": "https://localhost:8080/"
        },
        "id": "rD9v7CluKgFN",
        "outputId": "d888d0cf-2e04-4420-ae2d-4b9f1b094984"
      },
      "execution_count": 40,
      "outputs": [
        {
          "output_type": "stream",
          "name": "stdout",
          "text": [
            "True\n"
          ]
        }
      ]
    },
    {
      "cell_type": "code",
      "source": [],
      "metadata": {
        "id": "_NLCVUbxODUB"
      },
      "execution_count": null,
      "outputs": []
    }
  ]
}