{
  "nbformat": 4,
  "nbformat_minor": 0,
  "metadata": {
    "colab": {
      "provenance": [],
      "authorship_tag": "ABX9TyPX9g0955NxWSFvlWNxojy9"
    },
    "kernelspec": {
      "name": "python3",
      "display_name": "Python 3"
    },
    "language_info": {
      "name": "python"
    }
  },
  "cells": [
    {
      "cell_type": "code",
      "execution_count": 5,
      "metadata": {
        "colab": {
          "base_uri": "https://localhost:8080/"
        },
        "id": "vjl5PJ5EyDrQ",
        "outputId": "d5207f26-b40b-4d91-9d61-73d0698f3a79"
      },
      "outputs": [
        {
          "output_type": "stream",
          "name": "stdout",
          "text": [
            "['b', 'd', 'f']\n"
          ]
        }
      ],
      "source": [
        "# リスト\n",
        "def remove_evenindex(ln):\n",
        "  del ln[::2]\n",
        "  return ln\n",
        "\n",
        "print(remove_evenindex(['a', 'b', 'c', 'd', 'e', 'f', 'g']))"
      ]
    },
    {
      "cell_type": "code",
      "source": [
        "def remove_evenindex(ln):\n",
        "  del ln[::3]\n",
        "  return ln\n",
        "\n",
        "print(remove_evenindex(['a', 'b', 'c', 'd', 'e', 'f', 'g']))"
      ],
      "metadata": {
        "colab": {
          "base_uri": "https://localhost:8080/"
        },
        "id": "DB0jqBj203dJ",
        "outputId": "7d8b0be9-26df-471e-fd33-91e3f8985aa2"
      },
      "execution_count": 7,
      "outputs": [
        {
          "output_type": "stream",
          "name": "stdout",
          "text": [
            "['b', 'c', 'e', 'f']\n"
          ]
        }
      ]
    },
    {
      "cell_type": "code",
      "source": [
        "numbers = [30, 50, 10, 20, 40, 60]\n",
        "max(numbers)\n",
        "min(numbers)"
      ],
      "metadata": {
        "colab": {
          "base_uri": "https://localhost:8080/"
        },
        "id": "e8ON-m7P8xFc",
        "outputId": "eb047ece-b8d8-49ee-ef31-7c3c84ca4478"
      },
      "execution_count": 14,
      "outputs": [
        {
          "output_type": "execute_result",
          "data": {
            "text/plain": [
              "10"
            ]
          },
          "metadata": {},
          "execution_count": 14
        }
      ]
    },
    {
      "cell_type": "code",
      "source": [
        "# 要素が全て同じ値のリストを作る\n",
        "zero = [0] * 10\n",
        "zero"
      ],
      "metadata": {
        "colab": {
          "base_uri": "https://localhost:8080/"
        },
        "id": "FHZzSmRv90xI",
        "outputId": "7f64f750-9388-49a8-a22a-6359bc7a6575"
      },
      "execution_count": 11,
      "outputs": [
        {
          "output_type": "execute_result",
          "data": {
            "text/plain": [
              "[0, 0, 0, 0, 0, 0, 0, 0, 0, 0]"
            ]
          },
          "metadata": {},
          "execution_count": 11
        }
      ]
    },
    {
      "cell_type": "code",
      "source": [
        "# copy\n",
        "numbers = [10, 20, 30, 40, 50]\n",
        "numbers2 = numbers.copy()\n",
        "del numbers[1:3]\n",
        "numbers.reverse()\n",
        "print(numbers)\n",
        "print(numbers2)"
      ],
      "metadata": {
        "colab": {
          "base_uri": "https://localhost:8080/"
        },
        "id": "Z0VbxsDR-Kiw",
        "outputId": "28a713d4-0bed-48c6-fb6f-90779a51a59a"
      },
      "execution_count": 15,
      "outputs": [
        {
          "output_type": "stream",
          "name": "stdout",
          "text": [
            "[50, 40, 10]\n",
            "[10, 20, 30, 40, 50]\n"
          ]
        }
      ]
    },
    {
      "cell_type": "code",
      "source": [
        "def change_domain(email, domain):\n",
        "  email2 = email.split(\"@\")\n",
        "  email2[1] = domain\n",
        "  return \"@\".join([email2[0], email2[1]])\n",
        "\n",
        "print(change_domain('spam@utokyo-ipp.org', 'ipp.u-tokyo.ac.jp'))"
      ],
      "metadata": {
        "colab": {
          "base_uri": "https://localhost:8080/"
        },
        "id": "rrppAQlQADjE",
        "outputId": "f61fead7-b047-4f88-f689-c35f47664902"
      },
      "execution_count": 22,
      "outputs": [
        {
          "output_type": "stream",
          "name": "stdout",
          "text": [
            "spam@ipp.u-tokyo.ac.jp\n"
          ]
        }
      ]
    },
    {
      "cell_type": "code",
      "source": [],
      "metadata": {
        "id": "6lS6OUa_Bn01"
      },
      "execution_count": null,
      "outputs": []
    }
  ]
}