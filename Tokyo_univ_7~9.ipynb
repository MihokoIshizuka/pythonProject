{
  "nbformat": 4,
  "nbformat_minor": 0,
  "metadata": {
    "colab": {
      "provenance": [],
      "authorship_tag": "ABX9TyNj1BmFIkAi3rbHRdpkQiks"
    },
    "kernelspec": {
      "name": "python3",
      "display_name": "Python 3"
    },
    "language_info": {
      "name": "python"
    }
  },
  "cells": [
    {
      "cell_type": "code",
      "execution_count": 5,
      "metadata": {
        "colab": {
          "base_uri": "https://localhost:8080/"
        },
        "id": "vjl5PJ5EyDrQ",
        "outputId": "d5207f26-b40b-4d91-9d61-73d0698f3a79"
      },
      "outputs": [
        {
          "output_type": "stream",
          "name": "stdout",
          "text": [
            "['b', 'd', 'f']\n"
          ]
        }
      ],
      "source": [
        "# リスト\n",
        "def remove_evenindex(ln):\n",
        "  del ln[::2]\n",
        "  return ln\n",
        "\n",
        "print(remove_evenindex(['a', 'b', 'c', 'd', 'e', 'f', 'g']))"
      ]
    },
    {
      "cell_type": "code",
      "source": [
        "def remove_evenindex(ln):\n",
        "  del ln[::3]\n",
        "  return ln\n",
        "\n",
        "print(remove_evenindex(['a', 'b', 'c', 'd', 'e', 'f', 'g']))"
      ],
      "metadata": {
        "colab": {
          "base_uri": "https://localhost:8080/"
        },
        "id": "DB0jqBj203dJ",
        "outputId": "7d8b0be9-26df-471e-fd33-91e3f8985aa2"
      },
      "execution_count": 7,
      "outputs": [
        {
          "output_type": "stream",
          "name": "stdout",
          "text": [
            "['b', 'c', 'e', 'f']\n"
          ]
        }
      ]
    },
    {
      "cell_type": "code",
      "source": [
        "numbers = [30, 50, 10, 20, 40, 60]\n",
        "max(numbers)\n",
        "min(numbers)"
      ],
      "metadata": {
        "colab": {
          "base_uri": "https://localhost:8080/"
        },
        "id": "e8ON-m7P8xFc",
        "outputId": "eb047ece-b8d8-49ee-ef31-7c3c84ca4478"
      },
      "execution_count": 14,
      "outputs": [
        {
          "output_type": "execute_result",
          "data": {
            "text/plain": [
              "10"
            ]
          },
          "metadata": {},
          "execution_count": 14
        }
      ]
    },
    {
      "cell_type": "code",
      "source": [
        "# 要素が全て同じ値のリストを作る\n",
        "zero = [0] * 10\n",
        "zero"
      ],
      "metadata": {
        "colab": {
          "base_uri": "https://localhost:8080/"
        },
        "id": "FHZzSmRv90xI",
        "outputId": "7f64f750-9388-49a8-a22a-6359bc7a6575"
      },
      "execution_count": 11,
      "outputs": [
        {
          "output_type": "execute_result",
          "data": {
            "text/plain": [
              "[0, 0, 0, 0, 0, 0, 0, 0, 0, 0]"
            ]
          },
          "metadata": {},
          "execution_count": 11
        }
      ]
    },
    {
      "cell_type": "code",
      "source": [
        "# copy\n",
        "numbers = [10, 20, 30, 40, 50]\n",
        "numbers2 = numbers.copy()\n",
        "del numbers[1:3]\n",
        "numbers.reverse()\n",
        "print(numbers)\n",
        "print(numbers2)"
      ],
      "metadata": {
        "colab": {
          "base_uri": "https://localhost:8080/"
        },
        "id": "Z0VbxsDR-Kiw",
        "outputId": "28a713d4-0bed-48c6-fb6f-90779a51a59a"
      },
      "execution_count": 15,
      "outputs": [
        {
          "output_type": "stream",
          "name": "stdout",
          "text": [
            "[50, 40, 10]\n",
            "[10, 20, 30, 40, 50]\n"
          ]
        }
      ]
    },
    {
      "cell_type": "code",
      "source": [
        "# ドメインの変更\n",
        "def change_domain(email, domain):\n",
        "  email2 = email.split(\"@\")\n",
        "  email2[1] = domain\n",
        "  return \"@\".join([email2[0], email2[1]])\n",
        "\n",
        "print(change_domain('spam@utokyo-ipp.org', 'ipp.u-tokyo.ac.jp'))"
      ],
      "metadata": {
        "colab": {
          "base_uri": "https://localhost:8080/"
        },
        "id": "rrppAQlQADjE",
        "outputId": "f61fead7-b047-4f88-f689-c35f47664902"
      },
      "execution_count": 22,
      "outputs": [
        {
          "output_type": "stream",
          "name": "stdout",
          "text": [
            "spam@ipp.u-tokyo.ac.jp\n"
          ]
        }
      ]
    },
    {
      "cell_type": "code",
      "source": [
        "# タプル＝変更できないデータ\n",
        "numbers3 = (1, 2, 3)\n",
        "print(numbers3)\n",
        "\n",
        "numbers3 = 1,2,3\n",
        "print(numbers3)\n",
        "\n",
        "# 要素が一つだけの場合\n",
        "only = (1,)\n",
        "print(only)\n",
        "\n",
        "# タプルをリストに変換\n",
        "numbers = (1, 2, 3)\n",
        "print(list(numbers))\n",
        "\n",
        "# リストをタプルに変換\n",
        "numbers = [1, 2, 3]\n",
        "print(tuple(numbers))"
      ],
      "metadata": {
        "colab": {
          "base_uri": "https://localhost:8080/"
        },
        "id": "6lS6OUa_Bn01",
        "outputId": "23e1daaa-5f5a-4a52-9d53-ca3fdb6f6d3f"
      },
      "execution_count": 26,
      "outputs": [
        {
          "output_type": "stream",
          "name": "stdout",
          "text": [
            "(1, 2, 3)\n",
            "(1, 2, 3)\n",
            "(1,)\n",
            "[1, 2, 3]\n",
            "(1, 2, 3)\n"
          ]
        }
      ]
    },
    {
      "cell_type": "code",
      "source": [
        "def reverse_totuple(ln):\n",
        "  ln.reverse()\n",
        "  ln2 = tuple(ln)\n",
        "  return ln2\n",
        "  \n",
        "print(reverse_totuple([1, 2, 3, 4, 5]))"
      ],
      "metadata": {
        "colab": {
          "base_uri": "https://localhost:8080/"
        },
        "id": "YmiHApHUC9Ve",
        "outputId": "35d6f323-9186-4dfa-bcc3-e7fc8bbb75a4"
      },
      "execution_count": 33,
      "outputs": [
        {
          "output_type": "stream",
          "name": "stdout",
          "text": [
            "(5, 4, 3, 2, 1)\n"
          ]
        }
      ]
    },
    {
      "cell_type": "code",
      "source": [
        "def sum_list(ln):\n",
        "  sum = 0\n",
        "  for value in ln:\n",
        "    sum += value\n",
        "  return sum\n",
        "\n",
        "print(sum_list([10, 20, 30]))\n",
        "print(sum_list([-1, 2, -3, 4, -5]))"
      ],
      "metadata": {
        "colab": {
          "base_uri": "https://localhost:8080/"
        },
        "id": "JTmiM4hND6zB",
        "outputId": "77480de1-5193-432e-9646-8bce7591b095"
      },
      "execution_count": 35,
      "outputs": [
        {
          "output_type": "stream",
          "name": "stdout",
          "text": [
            "60\n",
            "-3\n"
          ]
        }
      ]
    },
    {
      "cell_type": "code",
      "source": [
        "def atgc_countlist(str_atgc):\n",
        "  a = 0\n",
        "  t = 0\n",
        "  c = 0\n",
        "  g = 0\n",
        "  for value in str_atgc:\n",
        "    if value == \"A\":\n",
        "      a += 1\n",
        "    elif value == \"T\":\n",
        "      t += 1\n",
        "    elif value == \"C\":\n",
        "      c += 1\n",
        "    else:\n",
        "      g += 1\n",
        "  return [a, \"A\"], [t, \"T\"], [c, \"C\"], [g, \"G\"]\n",
        "\n",
        "print(sorted(atgc_countlist('AAGCCCCATGGTAA')) == sorted([[5, 'A'], [2, 'T'], [3, 'G'], [4, 'C']]))"
      ],
      "metadata": {
        "colab": {
          "base_uri": "https://localhost:8080/"
        },
        "id": "TV0Rw-7xGsDg",
        "outputId": "9d92eb85-e5f1-40dc-902c-e4200f5cba25"
      },
      "execution_count": 37,
      "outputs": [
        {
          "output_type": "stream",
          "name": "stdout",
          "text": [
            "True\n"
          ]
        }
      ]
    },
    {
      "cell_type": "code",
      "source": [
        "# ↑の模範解答\n",
        "def atgc_countlist(str_atgc):\n",
        "  list_count = []\n",
        "  for value in \"ATGC\":\n",
        "    int_bpcnt = str_atgc.count(value)\n",
        "    list_count.append([int_bpcnt, value])\n",
        "  return list_count\n",
        "\n",
        "print(sorted(atgc_countlist('AAGCCCCATGGTAA')) == sorted([[5, 'A'], [2, 'T'], [3, 'G'], [4, 'C']]))"
      ],
      "metadata": {
        "colab": {
          "base_uri": "https://localhost:8080/"
        },
        "id": "rD9v7CluKgFN",
        "outputId": "d888d0cf-2e04-4420-ae2d-4b9f1b094984"
      },
      "execution_count": 40,
      "outputs": [
        {
          "output_type": "stream",
          "name": "stdout",
          "text": [
            "True\n"
          ]
        }
      ]
    },
    {
      "cell_type": "code",
      "source": [
        "def exception9(a):\n",
        "  for value in a:\n",
        "    if a.count(value) < 2:\n",
        "      return value\n",
        "    elif a.count(value) == 9:\n",
        "      return None\n",
        "print(exception9([1,2,2,2,2,2,2,2,2]))\n",
        "print(exception9([4,4,4,4,4,4,4,4,4]))"
      ],
      "metadata": {
        "colab": {
          "base_uri": "https://localhost:8080/"
        },
        "id": "_NLCVUbxODUB",
        "outputId": "23fd113d-7b63-4848-f191-0869a9a7e2ae"
      },
      "execution_count": 45,
      "outputs": [
        {
          "output_type": "stream",
          "name": "stdout",
          "text": [
            "1\n",
            "None\n"
          ]
        }
      ]
    },
    {
      "cell_type": "code",
      "source": [
        "x = -1\n",
        "\n",
        "if x < 1:\n",
        "  print('x is less than 1')\n",
        "elif x < 2:\n",
        "  print('x is larger than or equal to 1, and less than 2')\n",
        "elif x < 3:\n",
        "  print('x is larger than or equal to 2, and less than 3')\n",
        "else:\n",
        "  print('x is larger or equal to 3')"
      ],
      "metadata": {
        "colab": {
          "base_uri": "https://localhost:8080/"
        },
        "id": "6hkdBhPOPmjo",
        "outputId": "5562411c-ff2d-4d93-f463-c1d4a5d261fb"
      },
      "execution_count": 47,
      "outputs": [
        {
          "output_type": "stream",
          "name": "stdout",
          "text": [
            "x is less than 1\n"
          ]
        }
      ]
    },
    {
      "cell_type": "code",
      "source": [
        "# 3項演算子（条件式）\n",
        "x = 0\n",
        "sign = \"positive or zero\" if x >= 0 else \"negative\"\n",
        "print(sign)"
      ],
      "metadata": {
        "colab": {
          "base_uri": "https://localhost:8080/"
        },
        "id": "AR25M1YaQ4bp",
        "outputId": "3391f0cc-6d6f-4ade-ef66-82a84324a477"
      },
      "execution_count": 48,
      "outputs": [
        {
          "output_type": "stream",
          "name": "stdout",
          "text": [
            "positive or zero\n"
          ]
        }
      ]
    },
    {
      "cell_type": "code",
      "source": [
        "def reverse_lookup(list1):\n",
        "  dic = {}\n",
        "  for value in list1:\n",
        "      dic[value] = list1.index(value)\n",
        "  return dic\n",
        "  \n",
        "  \n",
        "\n",
        "print(reverse_lookup(['apple', 'pen', 'orange']))\n"
      ],
      "metadata": {
        "colab": {
          "base_uri": "https://localhost:8080/"
        },
        "id": "NgODQDTnRaWG",
        "outputId": "b137d3f9-e9b4-4d3e-86f0-c404cce208f4"
      },
      "execution_count": 70,
      "outputs": [
        {
          "output_type": "stream",
          "name": "stdout",
          "text": [
            "{'apple': 0, 'pen': 1, 'orange': 2}\n"
          ]
        }
      ]
    },
    {
      "cell_type": "code",
      "source": [
        "# キーを指定して値を得るメソッド\n",
        "ppap = {\"apple\" : 3, \"pen\" : 5}\n",
        "print(ppap.get(\"apple\"))\n",
        "print(ppap.get(\"pen\"))\n",
        "\n",
        "# 指定したキーが含まれていない時のみ引数の値をgetで返す値にできる\n",
        "print(ppap.get(\"apple\",9))\n",
        "print(ppap.get(\"orange\",-1))\n",
        "\n",
        "# 指定したキーが含まれていない時に登録を行う\n",
        "print(ppap.setdefault(\"apple\",7))\n",
        "print(ppap)\n",
        "print(ppap.setdefault(\"orange\",8))\n",
        "print(ppap)\n",
        "\n",
        "# キー一覧\n",
        "list(ppap.keys())\n",
        "# 値一覧\n",
        "list(ppap.values())\n",
        "\n",
        "# キーと値の一覧\n",
        "list(ppap.items())\n"
      ],
      "metadata": {
        "colab": {
          "base_uri": "https://localhost:8080/"
        },
        "id": "DcddvFDsS551",
        "outputId": "f8b1cc84-7a67-4dee-ea99-20c1311ac900"
      },
      "execution_count": 78,
      "outputs": [
        {
          "output_type": "stream",
          "name": "stdout",
          "text": [
            "3\n",
            "5\n",
            "3\n",
            "-1\n",
            "3\n",
            "{'apple': 3, 'pen': 5}\n",
            "8\n",
            "{'apple': 3, 'pen': 5, 'orange': 8}\n"
          ]
        },
        {
          "output_type": "execute_result",
          "data": {
            "text/plain": [
              "[('apple', 3), ('pen', 5), ('orange', 8)]"
            ]
          },
          "metadata": {},
          "execution_count": 78
        }
      ]
    },
    {
      "cell_type": "code",
      "source": [
        "def handle_collision(dic1, str1):\n",
        "  if dic1.get(len(str1)) is None:\n",
        "    return dic1.setdefault(len(str1),str1)\n",
        "  else:\n",
        "    return dic1[len(str1)].append(str1)\n",
        "  \n",
        "dic1_orig = {3: ['ham', 'egg'], 6: ['coffee', 'brandy'], 9: ['port wine'], 15: ['curried chicken']}\n",
        "dic1_result = {3: ['ham', 'egg', 'tea'], 6: ['coffee', 'brandy'], 9: ['port wine'],15: ['curried chicken']}\n",
        "handle_collision(dic1_orig, 'tea')\n",
        "print(dic1_orig == dic1_result)\n"
      ],
      "metadata": {
        "colab": {
          "base_uri": "https://localhost:8080/"
        },
        "id": "p9nC43efY4S4",
        "outputId": "f1f21484-fb3d-4c52-e5a4-72356b3230da"
      },
      "execution_count": 85,
      "outputs": [
        {
          "output_type": "stream",
          "name": "stdout",
          "text": [
            "True\n"
          ]
        }
      ]
    },
    {
      "cell_type": "code",
      "source": [],
      "metadata": {
        "id": "C9EyeNZ0eDxh"
      },
      "execution_count": null,
      "outputs": []
    }
  ]
}