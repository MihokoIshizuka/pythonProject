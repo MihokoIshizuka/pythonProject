{
  "nbformat": 4,
  "nbformat_minor": 0,
  "metadata": {
    "colab": {
      "provenance": [],
      "authorship_tag": "ABX9TyNnXaN4b3a939i6y/B1rXaf"
    },
    "kernelspec": {
      "name": "python3",
      "display_name": "Python 3"
    },
    "language_info": {
      "name": "python"
    }
  },
  "cells": [
    {
      "cell_type": "code",
      "source": [
        "print(7 - 2)\n",
        "print(7 * 2)\n",
        "print(7 ** 2)\n",
        "print(7 / 2)\n",
        "print(7 // 2)\n",
        "print(7 / 1)\n",
        "print(7 // 1)\n",
        "print(7 % 2)"
      ],
      "metadata": {
        "colab": {
          "base_uri": "https://localhost:8080/"
        },
        "id": "Hcdi3W44O0sv",
        "outputId": "7ee2cde5-45d4-47c6-ef70-fcac6a2c2d94"
      },
      "execution_count": 5,
      "outputs": [
        {
          "output_type": "stream",
          "name": "stdout",
          "text": [
            "5\n",
            "14\n",
            "49\n",
            "3.5\n",
            "3\n",
            "7.0\n",
            "7\n",
            "1\n"
          ]
        }
      ]
    },
    {
      "cell_type": "code",
      "source": [
        "7 / 1 == 7 // 1"
      ],
      "metadata": {
        "colab": {
          "base_uri": "https://localhost:8080/"
        },
        "id": "mslyoYRsPtGT",
        "outputId": "a76d0c8d-8aca-4b4f-9e2a-b6ea8066e22f"
      },
      "execution_count": 6,
      "outputs": [
        {
          "output_type": "execute_result",
          "data": {
            "text/plain": [
              "True"
            ]
          },
          "metadata": {},
          "execution_count": 6
        }
      ]
    },
    {
      "cell_type": "code",
      "source": [
        "2.0 ** 1000"
      ],
      "metadata": {
        "colab": {
          "base_uri": "https://localhost:8080/"
        },
        "id": "bC7qnUnVP3I3",
        "outputId": "e910b977-4b9d-4ddf-c853-26150b57cb68"
      },
      "execution_count": 7,
      "outputs": [
        {
          "output_type": "execute_result",
          "data": {
            "text/plain": [
              "1.0715086071862673e+301"
            ]
          },
          "metadata": {},
          "execution_count": 7
        }
      ]
    },
    {
      "cell_type": "code",
      "source": [
        "import math\n",
        "\n",
        "# 平方根を求める\n",
        "math.sqrt(2)\n",
        "\n",
        "# 黄金比を求める\n",
        "(math.sqrt(5) + 1) / 2"
      ],
      "metadata": {
        "colab": {
          "base_uri": "https://localhost:8080/"
        },
        "id": "DRj9GDa2QmIk",
        "outputId": "bd98e232-7f57-4ce1-c3f9-e1619e17b23b"
      },
      "execution_count": 10,
      "outputs": [
        {
          "output_type": "execute_result",
          "data": {
            "text/plain": [
              "1.618033988749895"
            ]
          },
          "metadata": {},
          "execution_count": 10
        }
      ]
    },
    {
      "cell_type": "code",
      "source": [],
      "metadata": {
        "id": "JT3TlnloX_fG"
      },
      "execution_count": null,
      "outputs": []
    }
  ]
}