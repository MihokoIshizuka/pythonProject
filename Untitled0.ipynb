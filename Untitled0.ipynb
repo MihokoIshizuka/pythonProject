{
  "nbformat": 4,
  "nbformat_minor": 0,
  "metadata": {
    "colab": {
      "provenance": [],
      "collapsed_sections": [],
      "authorship_tag": "ABX9TyNVWst5e4D8Wai2vSuiPnAP"
    },
    "kernelspec": {
      "name": "python3",
      "display_name": "Python 3"
    },
    "language_info": {
      "name": "python"
    }
  },
  "cells": [
    {
      "cell_type": "code",
      "source": [
        "print(7 - 2)\n",
        "print(7 * 2)\n",
        "print(7 ** 2)\n",
        "print(7 / 2)\n",
        "print(7 // 2)\n",
        "print(7 / 1)\n",
        "print(7 // 1)\n",
        "print(7 % 2)"
      ],
      "metadata": {
        "colab": {
          "base_uri": "https://localhost:8080/"
        },
        "id": "Hcdi3W44O0sv",
        "outputId": "7ee2cde5-45d4-47c6-ef70-fcac6a2c2d94"
      },
      "execution_count": 5,
      "outputs": [
        {
          "output_type": "stream",
          "name": "stdout",
          "text": [
            "5\n",
            "14\n",
            "49\n",
            "3.5\n",
            "3\n",
            "7.0\n",
            "7\n",
            "1\n"
          ]
        }
      ]
    },
    {
      "cell_type": "code",
      "source": [
        "7 / 1 == 7 // 1"
      ],
      "metadata": {
        "colab": {
          "base_uri": "https://localhost:8080/"
        },
        "id": "mslyoYRsPtGT",
        "outputId": "a76d0c8d-8aca-4b4f-9e2a-b6ea8066e22f"
      },
      "execution_count": 6,
      "outputs": [
        {
          "output_type": "execute_result",
          "data": {
            "text/plain": [
              "True"
            ]
          },
          "metadata": {},
          "execution_count": 6
        }
      ]
    },
    {
      "cell_type": "code",
      "source": [
        "2.0 ** 1000"
      ],
      "metadata": {
        "colab": {
          "base_uri": "https://localhost:8080/"
        },
        "id": "bC7qnUnVP3I3",
        "outputId": "e910b977-4b9d-4ddf-c853-26150b57cb68"
      },
      "execution_count": 7,
      "outputs": [
        {
          "output_type": "execute_result",
          "data": {
            "text/plain": [
              "1.0715086071862673e+301"
            ]
          },
          "metadata": {},
          "execution_count": 7
        }
      ]
    },
    {
      "cell_type": "code",
      "source": [
        "import math\n",
        "\n",
        "# 平方根を求める\n",
        "math.sqrt(2)\n",
        "\n",
        "# 黄金比を求める\n",
        "(math.sqrt(5) + 1) / 2"
      ],
      "metadata": {
        "colab": {
          "base_uri": "https://localhost:8080/"
        },
        "id": "DRj9GDa2QmIk",
        "outputId": "bd98e232-7f57-4ce1-c3f9-e1619e17b23b"
      },
      "execution_count": 10,
      "outputs": [
        {
          "output_type": "execute_result",
          "data": {
            "text/plain": [
              "1.618033988749895"
            ]
          },
          "metadata": {},
          "execution_count": 10
        }
      ]
    },
    {
      "cell_type": "code",
      "source": [
        "# BMIの定義\n",
        "def bmi(height, weight):\n",
        "  return weight / (height/100) ** 2\n",
        "\n",
        "bmi(188.0,104.0)"
      ],
      "metadata": {
        "colab": {
          "base_uri": "https://localhost:8080/"
        },
        "id": "JT3TlnloX_fG",
        "outputId": "c65f7c08-230c-4fba-9b80-9b4584d3ddb6"
      },
      "execution_count": 11,
      "outputs": [
        {
          "output_type": "execute_result",
          "data": {
            "text/plain": [
              "29.425079221367138"
            ]
          },
          "metadata": {},
          "execution_count": 11
        }
      ]
    },
    {
      "cell_type": "code",
      "source": [
        "# 気温と湿度の入力で体感温度を計算\n",
        "def felt_air_temperature(temperature, humidity):\n",
        "  return temperature - 1 / 2.3 * (temperature - 10) * (0.8 - humidity / 100)\n",
        "\n",
        "felt_air_temperature(28, 50)"
      ],
      "metadata": {
        "colab": {
          "base_uri": "https://localhost:8080/"
        },
        "id": "nC1vo7hWggKN",
        "outputId": "fab6f308-b18c-466c-af6c-fbfbcc3aed29"
      },
      "execution_count": 12,
      "outputs": [
        {
          "output_type": "execute_result",
          "data": {
            "text/plain": [
              "25.652173913043477"
            ]
          },
          "metadata": {},
          "execution_count": 12
        }
      ]
    },
    {
      "cell_type": "code",
      "source": [
        "# f フィート i インチをセンチメートルに変換する関数 ft_to_cm(f,i) を定義\n",
        "def ft_to_cm(f, i):\n",
        "  return (f * 12.0 + i) * 30.48 / 12.0\n",
        "assert round(ft_to_cm(5, 2) - 157.48, 6) == 0\n",
        "assert round(ft_to_cm(6, 5) - 195.58, 6) == 0"
      ],
      "metadata": {
        "id": "K8g1s2cbhMmk"
      },
      "execution_count": 14,
      "outputs": []
    },
    {
      "cell_type": "code",
      "source": [
        "# 二次関数 f(x) = ax2 + bx + c の値を求める quadratic(a,b,c,x) を定義\n",
        "def quadratic(a, b, c, x):\n",
        "  return (a * x ** 2) + (b * x) + c\n",
        "assert quadratic(1, 2, 1, 3) == 16\n",
        "assert quadratic(1, -5, -2, 7) == 12"
      ],
      "metadata": {
        "id": "5ShiKSjDiwXB"
      },
      "execution_count": 15,
      "outputs": []
    },
    {
      "cell_type": "code",
      "source": [
        "# if文\n",
        "\n",
        "def bmax(a,b):\n",
        "  if a > b:\n",
        "    return a\n",
        "  else:\n",
        "    return b\n",
        "bmax(3,5)\n"
      ],
      "metadata": {
        "colab": {
          "base_uri": "https://localhost:8080/"
        },
        "id": "Aj8b98pvjXhm",
        "outputId": "db2caaf8-5b66-4604-83ac-0d5af6781f68"
      },
      "execution_count": 16,
      "outputs": [
        {
          "output_type": "execute_result",
          "data": {
            "text/plain": [
              "5"
            ]
          },
          "metadata": {},
          "execution_count": 16
        }
      ]
    },
    {
      "cell_type": "code",
      "source": [
        "# 練習 sign\n",
        "def sign(x):\n",
        "  if x > 0:\n",
        "    return 1\n",
        "  elif x < 0:\n",
        "    return -1\n",
        "  else:\n",
        "    return 0\n",
        "assert sign(5) == 1\n",
        "assert sign(-5) == -1\n",
        "assert sign(0) == 0"
      ],
      "metadata": {
        "id": "egkmP9KbwhOu"
      },
      "execution_count": 17,
      "outputs": []
    },
    {
      "cell_type": "code",
      "source": [
        "# 文字列の検索\n",
        "'lo' in 'hello'"
      ],
      "metadata": {
        "colab": {
          "base_uri": "https://localhost:8080/"
        },
        "id": "PA4N9ka1w7-o",
        "outputId": "950b449e-f72c-43b1-d962-614cfd1b736f"
      },
      "execution_count": 1,
      "outputs": [
        {
          "output_type": "execute_result",
          "data": {
            "text/plain": [
              "True"
            ]
          },
          "metadata": {},
          "execution_count": 1
        }
      ]
    },
    {
      "cell_type": "code",
      "source": [
        "word = 'hello'\n",
        "substr = 'lo'\n",
        "substr in word"
      ],
      "metadata": {
        "colab": {
          "base_uri": "https://localhost:8080/"
        },
        "id": "SujhbjZXbfmG",
        "outputId": "fc2d1961-7af5-488c-d780-406ec2147eff"
      },
      "execution_count": 2,
      "outputs": [
        {
          "output_type": "execute_result",
          "data": {
            "text/plain": [
              "True"
            ]
          },
          "metadata": {},
          "execution_count": 2
        }
      ]
    },
    {
      "cell_type": "code",
      "source": [
        "word = 'hello'\n",
        "substr = 'z'\n",
        "substr not in word"
      ],
      "metadata": {
        "colab": {
          "base_uri": "https://localhost:8080/"
        },
        "id": "x376c0Ikbtxk",
        "outputId": "d4d06333-3dc0-4c0c-abf1-518e30ade7f8"
      },
      "execution_count": 3,
      "outputs": [
        {
          "output_type": "execute_result",
          "data": {
            "text/plain": [
              "True"
            ]
          },
          "metadata": {},
          "execution_count": 3
        }
      ]
    },
    {
      "cell_type": "code",
      "source": [
        "# エスケープシーケンス\n",
        "escaped2 = 'This is \\'MINE\\''\n",
        "escaped2"
      ],
      "metadata": {
        "colab": {
          "base_uri": "https://localhost:8080/",
          "height": 35
        },
        "id": "h3UF_ywUbxoT",
        "outputId": "6e782976-bc63-4a0f-aecd-33459bd793b1"
      },
      "execution_count": 7,
      "outputs": [
        {
          "output_type": "execute_result",
          "data": {
            "text/plain": [
              "\"This is 'MINE'\""
            ],
            "application/vnd.google.colaboratory.intrinsic+json": {
              "type": "string"
            }
          },
          "metadata": {},
          "execution_count": 7
        }
      ]
    },
    {
      "cell_type": "code",
      "source": [
        "# 置換\n",
        "word ='hello'\n",
        "word.replace('l','123')"
      ],
      "metadata": {
        "colab": {
          "base_uri": "https://localhost:8080/",
          "height": 35
        },
        "id": "bxJT7LJhcqt5",
        "outputId": "b540574f-e35b-43f9-a0a6-c321f8b4cf9f"
      },
      "execution_count": 14,
      "outputs": [
        {
          "output_type": "execute_result",
          "data": {
            "text/plain": [
              "'he123123o'"
            ],
            "application/vnd.google.colaboratory.intrinsic+json": {
              "type": "string"
            }
          },
          "metadata": {},
          "execution_count": 14
        }
      ]
    },
    {
      "cell_type": "code",
      "source": [
        "def atgc_bppair(str_atgc):\n",
        "  str_pair = str_atgc.replace('A', 't')\n",
        "  str_pair = str_pair.replace('T', 'a')\n",
        "  str_pair = str_pair.replace('C', 'g')\n",
        "  str_pair = str_pair.replace('G', 'c')\n",
        "  str_pair = str_pair.upper()\n",
        "  return str_pair\n",
        "  \n",
        "print(atgc_bppair('AAGCCCCATGGTAA')) \n",
        "\n"
      ],
      "metadata": {
        "colab": {
          "base_uri": "https://localhost:8080/"
        },
        "id": "Q80DsoRkd-EN",
        "outputId": "6adeb5a8-7d48-4605-f81b-196a2763c847"
      },
      "execution_count": 42,
      "outputs": [
        {
          "output_type": "stream",
          "name": "stdout",
          "text": [
            "TTCGGGGTACCATT\n"
          ]
        }
      ]
    },
    {
      "cell_type": "code",
      "source": [
        "# 検索\n",
        "word = 'hello'\n",
        "word.index('lo')"
      ],
      "metadata": {
        "colab": {
          "base_uri": "https://localhost:8080/"
        },
        "id": "WqQyoQv3hR5i",
        "outputId": "0f5d8409-5487-4298-9933-4df9fb15705d"
      },
      "execution_count": 43,
      "outputs": [
        {
          "output_type": "execute_result",
          "data": {
            "text/plain": [
              "3"
            ]
          },
          "metadata": {},
          "execution_count": 43
        }
      ]
    },
    {
      "cell_type": "code",
      "source": [
        "word1 = 'hello'\n",
        "word1.index('l')"
      ],
      "metadata": {
        "colab": {
          "base_uri": "https://localhost:8080/"
        },
        "id": "B928rb8ljc_J",
        "outputId": "5a92d726-0f43-4b8e-e853-a04be242b3d2"
      },
      "execution_count": 45,
      "outputs": [
        {
          "output_type": "execute_result",
          "data": {
            "text/plain": [
              "2"
            ]
          },
          "metadata": {},
          "execution_count": 45
        }
      ]
    },
    {
      "cell_type": "code",
      "source": [
        "# findメソッドはindexと同じ検索だが、文字が含まれない場合にエラーにならず-1が返される\n",
        "word1 = 'hello'\n",
        "word1.find('a')"
      ],
      "metadata": {
        "colab": {
          "base_uri": "https://localhost:8080/"
        },
        "id": "MIQjff7HjgeF",
        "outputId": "ccf415c9-f449-494c-93ef-db47eaaf4f93"
      },
      "execution_count": 47,
      "outputs": [
        {
          "output_type": "execute_result",
          "data": {
            "text/plain": [
              "-1"
            ]
          },
          "metadata": {},
          "execution_count": 47
        }
      ]
    },
    {
      "cell_type": "code",
      "source": [],
      "metadata": {
        "id": "5FVAhrLzj1OS"
      },
      "execution_count": null,
      "outputs": []
    }
  ]
}