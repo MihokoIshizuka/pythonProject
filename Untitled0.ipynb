{
  "nbformat": 4,
  "nbformat_minor": 0,
  "metadata": {
    "colab": {
      "provenance": [],
      "collapsed_sections": [],
      "authorship_tag": "ABX9TyOPsspSW0ZXjPMz8tSQlncO"
    },
    "kernelspec": {
      "name": "python3",
      "display_name": "Python 3"
    },
    "language_info": {
      "name": "python"
    }
  },
  "cells": [
    {
      "cell_type": "code",
      "source": [
        "print(7 - 2)\n",
        "print(7 * 2)\n",
        "print(7 ** 2)\n",
        "print(7 / 2)\n",
        "print(7 // 2)\n",
        "print(7 / 1)\n",
        "print(7 // 1)\n",
        "print(7 % 2)"
      ],
      "metadata": {
        "colab": {
          "base_uri": "https://localhost:8080/"
        },
        "id": "Hcdi3W44O0sv",
        "outputId": "7ee2cde5-45d4-47c6-ef70-fcac6a2c2d94"
      },
      "execution_count": 5,
      "outputs": [
        {
          "output_type": "stream",
          "name": "stdout",
          "text": [
            "5\n",
            "14\n",
            "49\n",
            "3.5\n",
            "3\n",
            "7.0\n",
            "7\n",
            "1\n"
          ]
        }
      ]
    },
    {
      "cell_type": "code",
      "source": [
        "7 / 1 == 7 // 1"
      ],
      "metadata": {
        "colab": {
          "base_uri": "https://localhost:8080/"
        },
        "id": "mslyoYRsPtGT",
        "outputId": "a76d0c8d-8aca-4b4f-9e2a-b6ea8066e22f"
      },
      "execution_count": 6,
      "outputs": [
        {
          "output_type": "execute_result",
          "data": {
            "text/plain": [
              "True"
            ]
          },
          "metadata": {},
          "execution_count": 6
        }
      ]
    },
    {
      "cell_type": "code",
      "source": [
        "2.0 ** 1000"
      ],
      "metadata": {
        "colab": {
          "base_uri": "https://localhost:8080/"
        },
        "id": "bC7qnUnVP3I3",
        "outputId": "e910b977-4b9d-4ddf-c853-26150b57cb68"
      },
      "execution_count": 7,
      "outputs": [
        {
          "output_type": "execute_result",
          "data": {
            "text/plain": [
              "1.0715086071862673e+301"
            ]
          },
          "metadata": {},
          "execution_count": 7
        }
      ]
    },
    {
      "cell_type": "code",
      "source": [
        "import math\n",
        "\n",
        "# 平方根を求める\n",
        "math.sqrt(2)\n",
        "\n",
        "# 黄金比を求める\n",
        "(math.sqrt(5) + 1) / 2"
      ],
      "metadata": {
        "colab": {
          "base_uri": "https://localhost:8080/"
        },
        "id": "DRj9GDa2QmIk",
        "outputId": "bd98e232-7f57-4ce1-c3f9-e1619e17b23b"
      },
      "execution_count": 10,
      "outputs": [
        {
          "output_type": "execute_result",
          "data": {
            "text/plain": [
              "1.618033988749895"
            ]
          },
          "metadata": {},
          "execution_count": 10
        }
      ]
    },
    {
      "cell_type": "code",
      "source": [
        "# BMIの定義\n",
        "def bmi(height, weight):\n",
        "  return weight / (height/100) ** 2\n",
        "\n",
        "bmi(188.0,104.0)"
      ],
      "metadata": {
        "colab": {
          "base_uri": "https://localhost:8080/"
        },
        "id": "JT3TlnloX_fG",
        "outputId": "c65f7c08-230c-4fba-9b80-9b4584d3ddb6"
      },
      "execution_count": 11,
      "outputs": [
        {
          "output_type": "execute_result",
          "data": {
            "text/plain": [
              "29.425079221367138"
            ]
          },
          "metadata": {},
          "execution_count": 11
        }
      ]
    },
    {
      "cell_type": "code",
      "source": [
        "# 気温と湿度の入力で体感温度を計算\n",
        "def felt_air_temperature(temperature, humidity):\n",
        "  return temperature - 1 / 2.3 * (temperature - 10) * (0.8 - humidity / 100)\n",
        "\n",
        "felt_air_temperature(28, 50)"
      ],
      "metadata": {
        "colab": {
          "base_uri": "https://localhost:8080/"
        },
        "id": "nC1vo7hWggKN",
        "outputId": "fab6f308-b18c-466c-af6c-fbfbcc3aed29"
      },
      "execution_count": 12,
      "outputs": [
        {
          "output_type": "execute_result",
          "data": {
            "text/plain": [
              "25.652173913043477"
            ]
          },
          "metadata": {},
          "execution_count": 12
        }
      ]
    },
    {
      "cell_type": "code",
      "source": [
        "# f フィート i インチをセンチメートルに変換する関数 ft_to_cm(f,i) を定義\n",
        "def ft_to_cm(f, i):\n",
        "  return (f * 12.0 + i) * 30.48 / 12.0\n",
        "assert round(ft_to_cm(5, 2) - 157.48, 6) == 0\n",
        "assert round(ft_to_cm(6, 5) - 195.58, 6) == 0"
      ],
      "metadata": {
        "id": "K8g1s2cbhMmk"
      },
      "execution_count": 14,
      "outputs": []
    },
    {
      "cell_type": "code",
      "source": [
        "# 二次関数 f(x) = ax2 + bx + c の値を求める quadratic(a,b,c,x) を定義\n",
        "def quadratic(a, b, c, x):\n",
        "  return (a * x ** 2) + (b * x) + c\n",
        "assert quadratic(1, 2, 1, 3) == 16\n",
        "assert quadratic(1, -5, -2, 7) == 12"
      ],
      "metadata": {
        "id": "5ShiKSjDiwXB"
      },
      "execution_count": 15,
      "outputs": []
    },
    {
      "cell_type": "code",
      "source": [],
      "metadata": {
        "id": "Aj8b98pvjXhm"
      },
      "execution_count": null,
      "outputs": []
    }
  ]
}